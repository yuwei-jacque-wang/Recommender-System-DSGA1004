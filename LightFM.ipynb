{
 "cells": [
  {
   "cell_type": "code",
   "execution_count": 2,
   "metadata": {},
   "outputs": [
    {
     "name": "stderr",
     "output_type": "stream",
     "text": [
      "/Users/yuweiwang/opt/anaconda3/lib/python2.7/site-packages/lightfm/_lightfm_fast.py:9: UserWarning: LightFM was compiled without OpenMP support. Only a single thread will be used.\n",
      "  warnings.warn('LightFM was compiled without OpenMP support. '\n"
     ]
    }
   ],
   "source": [
    "import lightfm\n",
    "from lightfm.data import Dataset\n",
    "\n",
    "import json\n",
    "from itertools import islice\n",
    "\n",
    "import pandas as pd\n",
    "import numpy as np\n",
    "from collections import Counter\n",
    "\n",
    "from scipy.sparse import csr_matrix"
   ]
  },
  {
   "cell_type": "markdown",
   "metadata": {},
   "source": [
    "## Data Transform"
   ]
  },
  {
   "cell_type": "code",
   "execution_count": 3,
   "metadata": {},
   "outputs": [],
   "source": [
    "from lightfm.cross_validation import random_train_test_split\n",
    "\n",
    "def transform_interaction(df, test_percent):\n",
    "    \n",
    "    '''\n",
    "        Params:\n",
    "            df: dataframe which must contain 'user_id','book_id','rating' columns\n",
    "            test_percent: percent of data to be put into test set\n",
    "            \n",
    "        Return: \n",
    "            train_matrix: a scipy sparse matrix containing interactions for training\n",
    "            test_matrix: a scipy sparse matrix containing interactions for testing\n",
    "            \n",
    "            return type: a tuple (train_matrix, test_matrix) of scipy.sparse.COOMatrix\n",
    "    '''\n",
    "    \n",
    "    interaction = pd.pivot_table(df, index='user_id', columns='book_id', values='rating')\n",
    "    interaction = interaction.fillna(0)\n",
    "    \n",
    "    all_csr = csr_matrix(interaction.values)\n",
    "    \n",
    "    (train_matrix, test_matrix) = random_train_test_split(all_csr, test_percentage=test_percent)\n",
    "    \n",
    "    return (train_matrix, test_matrix)"
   ]
  },
  {
   "cell_type": "markdown",
   "metadata": {},
   "source": [
    "## Train and test"
   ]
  },
  {
   "cell_type": "code",
   "execution_count": 4,
   "metadata": {},
   "outputs": [],
   "source": [
    "from lightfm import LightFM\n",
    "\n",
    "def lightfm_train(train, rank, regParam, maxIter, model_type='warp'):\n",
    "    \n",
    "    '''\n",
    "        Params:\n",
    "            train: training csr matrix in form of scipy.sparse.COOMatrix\n",
    "            rank: dimensionality of the feature latent embeddings\n",
    "            regParam: L2 penalty on user features\n",
    "            maxIter: number of epochs to run\n",
    "            model_type: 'warp' - Weighted Approximate-Rank Pairwise Loss \n",
    "                        'bpr' - Bayesian Personalised Ranking\n",
    "            \n",
    "        Return: \n",
    "            model: lightfm model trained on training set\n",
    "            \n",
    "            return type: lightfm instance\n",
    "    '''\n",
    "    if model_type == 'bpr':\n",
    "        model = LightFM(loss='bpr',\n",
    "                no_components=rank,\n",
    "                user_alpha=regParam)\n",
    "        \n",
    "    else:    \n",
    "        model = LightFM(loss='warp',\n",
    "                no_components=rank,\n",
    "                user_alpha=regParam)\n",
    "\n",
    "    model = model.fit(train, epochs=maxIter,verbose=False)\n",
    "    \n",
    "    return model"
   ]
  },
  {
   "cell_type": "code",
   "execution_count": 5,
   "metadata": {},
   "outputs": [],
   "source": [
    "from lightfm.evaluation import precision_at_k\n",
    "from time import time\n",
    "\n",
    "def train_and_test(train, test, rank, regParam, maxIter, top=500, model_type='warp'):\n",
    "    \n",
    "    '''\n",
    "        Params:\n",
    "            train: training csr matrix in form of scipy.sparse.COOMatrix\n",
    "            test: test csr matrix in form of scipy_sparse_COOMatrix\n",
    "            rank: dimensionality of the feature latent embeddings\n",
    "            regParam: L2 penalty on user features\n",
    "            maxIter: number of epochs to run\n",
    "            top: number of top recommendations to evaluate on\n",
    "            model_type: 'warp' - Weighted Approximate-Rank Pairwise Loss \n",
    "                        'bpr' - Bayesian Personalised Ranking\n",
    "            \n",
    "        Return: \n",
    "            p_at_k: precision at k\n",
    "            time: time for train and evaluation\n",
    "    '''\n",
    "    \n",
    "    st = time()\n",
    "    \n",
    "    model = lightfm_train(train, rank, regParam, maxIter, model_type='warp')\n",
    "    p_at_k = precision_at_k(model, test, k=top).mean()\n",
    "    \n",
    "    t = round(time()-st, 5)\n",
    "    \n",
    "    print('Model with maxIter = {}, reg = {}, rank = {} complete'.format(maxIter,regParam,rank))\n",
    "    print('Precision at K:', p_at_k)\n",
    "    print('Time used:', t)\n",
    "    \n",
    "    return p_at_k, t"
   ]
  },
  {
   "cell_type": "markdown",
   "metadata": {},
   "source": [
    "## Experiment on 1% data"
   ]
  },
  {
   "cell_type": "code",
   "execution_count": 6,
   "metadata": {},
   "outputs": [],
   "source": [
    "train1 = pd.read_csv('train1.csv')\n",
    "val1 = pd.read_csv('valid1.csv')\n",
    "test1 = pd.read_csv('test1.csv')\n",
    "\n",
    "raw1 = pd.concat([train1, val1, test1])\n",
    "raw1 = raw1[['0','1','3']].rename(columns={\"0\": \"user_id\", \"1\": \"book_id\", \"3\":\"rating\"})"
   ]
  },
  {
   "cell_type": "code",
   "execution_count": 7,
   "metadata": {},
   "outputs": [
    {
     "data": {
      "text/plain": [
       "(198323, 3)"
      ]
     },
     "execution_count": 7,
     "metadata": {},
     "output_type": "execute_result"
    }
   ],
   "source": [
    "raw1.shape"
   ]
  },
  {
   "cell_type": "code",
   "execution_count": 12,
   "metadata": {},
   "outputs": [],
   "source": [
    "train_1, test_1 = transform_interaction(raw1, 0.2)"
   ]
  },
  {
   "cell_type": "code",
   "execution_count": 13,
   "metadata": {},
   "outputs": [
    {
     "name": "stdout",
     "output_type": "stream",
     "text": [
      "Model with maxIter = 10, reg = 0.01, rank = 10 complete\n",
      "('Precision at K:', 2.190369e-05)\n",
      "('Time used:', 59.92625)\n",
      "Model with maxIter = 10, reg = 0.01, rank = 20 complete\n",
      "('Precision at K:', 2.142052e-05)\n",
      "('Time used:', 64.53654)\n",
      "Model with maxIter = 10, reg = 0.01, rank = 30 complete\n",
      "('Precision at K:', 1.9326784e-05)\n",
      "('Time used:', 73.01607)\n",
      "Model with maxIter = 10, reg = 0.01, rank = 40 complete\n",
      "('Precision at K:', 2.1259462e-05)\n",
      "('Time used:', 67.46433)\n",
      "Model with maxIter = 10, reg = 0.01, rank = 50 complete\n",
      "('Precision at K:', 1.997101e-05)\n",
      "('Time used:', 78.93602)\n",
      "Model with maxIter = 10, reg = 0.01, rank = 60 complete\n",
      "('Precision at K:', 1.8038332e-05)\n",
      "('Time used:', 83.20069)\n",
      "Model with maxIter = 10, reg = 0.01, rank = 70 complete\n",
      "('Precision at K:', 2.0293122e-05)\n",
      "('Time used:', 96.41673)\n",
      "Model with maxIter = 10, reg = 0.01, rank = 80 complete\n",
      "('Precision at K:', 1.9326784e-05)\n",
      "('Time used:', 89.76761)\n",
      "Model with maxIter = 10, reg = 0.01, rank = 90 complete\n",
      "('Precision at K:', 2.045418e-05)\n",
      "('Time used:', 101.40434)\n",
      "Model with maxIter = 10, reg = 0.01, rank = 100 complete\n",
      "('Precision at K:', 1.803833e-05)\n",
      "('Time used:', 112.97907)\n",
      "Model with maxIter = 10, reg = 0.01, rank = 120 complete\n",
      "('Precision at K:', 2.1581576e-05)\n",
      "('Time used:', 121.33206)\n",
      "Model with maxIter = 10, reg = 0.01, rank = 140 complete\n",
      "('Precision at K:', 1.948784e-05)\n",
      "('Time used:', 135.01664)\n",
      "Model with maxIter = 10, reg = 0.01, rank = 160 complete\n",
      "('Precision at K:', 1.771622e-05)\n",
      "('Time used:', 153.11183)\n",
      "Model with maxIter = 10, reg = 0.01, rank = 180 complete\n",
      "('Precision at K:', 2.5607987e-05)\n",
      "('Time used:', 176.9992)\n"
     ]
    }
   ],
   "source": [
    "for rank in [10,20,30,40,50,60,70,80,90,100,120,140,160,180]:\n",
    "    pk_1, time_1 = train_and_test(train_1, test_1, rank, 0.01, 10, top=500, model_type='warp')"
   ]
  },
  {
   "cell_type": "code",
   "execution_count": 14,
   "metadata": {},
   "outputs": [
    {
     "name": "stdout",
     "output_type": "stream",
     "text": [
      "Model with maxIter = 10, reg = 0.01, rank = 10 complete\n",
      "('Precision at K:', 2.22258e-05)\n",
      "('Time used:', 64.43484)\n",
      "Model with maxIter = 10, reg = 0.01, rank = 20 complete\n",
      "('Precision at K:', 1.8199387e-05)\n",
      "('Time used:', 65.37152)\n",
      "Model with maxIter = 10, reg = 0.01, rank = 30 complete\n",
      "('Precision at K:', 1.9326784e-05)\n",
      "('Time used:', 74.37135)\n",
      "Model with maxIter = 10, reg = 0.01, rank = 40 complete\n",
      "('Precision at K:', 2.029312e-05)\n",
      "('Time used:', 68.85651)\n",
      "Model with maxIter = 10, reg = 0.01, rank = 50 complete\n",
      "('Precision at K:', 1.9648896e-05)\n",
      "('Time used:', 78.62235)\n",
      "Model with maxIter = 10, reg = 0.01, rank = 60 complete\n",
      "('Precision at K:', 1.6588823e-05)\n",
      "('Time used:', 83.94908)\n",
      "Model with maxIter = 10, reg = 0.01, rank = 70 complete\n",
      "('Precision at K:', 2.045418e-05)\n",
      "('Time used:', 96.65876)\n",
      "Model with maxIter = 10, reg = 0.01, rank = 80 complete\n",
      "('Precision at K:', 2.2064747e-05)\n",
      "('Time used:', 95.79974)\n",
      "Model with maxIter = 10, reg = 0.01, rank = 90 complete\n",
      "('Precision at K:', 2.2064743e-05)\n",
      "('Time used:', 102.77393)\n",
      "Model with maxIter = 10, reg = 0.01, rank = 100 complete\n",
      "('Precision at K:', 1.723305e-05)\n",
      "('Time used:', 117.0333)\n",
      "Model with maxIter = 10, reg = 0.01, rank = 120 complete\n",
      "('Precision at K:', 1.9165727e-05)\n",
      "('Time used:', 119.70271)\n",
      "Model with maxIter = 10, reg = 0.01, rank = 140 complete\n",
      "('Precision at K:', 1.9648896e-05)\n",
      "('Time used:', 144.26476)\n",
      "Model with maxIter = 10, reg = 0.01, rank = 160 complete\n",
      "('Precision at K:', 1.7394106e-05)\n",
      "('Time used:', 157.69373)\n",
      "Model with maxIter = 10, reg = 0.01, rank = 180 complete\n",
      "('Precision at K:', 2.2870026e-05)\n",
      "('Time used:', 177.46055)\n"
     ]
    }
   ],
   "source": [
    "for rank in [10,20,30,40,50,60,70,80,90,100,120,140,160,180]:\n",
    "    pk_1, time_1 = train_and_test(train_1, test_1, rank, 0.01, 10, top=500, model_type='bpr')"
   ]
  },
  {
   "cell_type": "code",
   "execution_count": 10,
   "metadata": {},
   "outputs": [
    {
     "name": "stdout",
     "output_type": "stream",
     "text": [
      "Model with maxIter = 10, reg = 0.001, rank = 160 complete\n",
      "('Precision at K:', 1.9033792e-05)\n",
      "('Time used:', 153.94538)\n",
      "Model with maxIter = 10, reg = 0.01, rank = 160 complete\n",
      "('Precision at K:', 1.9679006e-05)\n",
      "('Time used:', 142.97807)\n",
      "Model with maxIter = 10, reg = 0.05, rank = 160 complete\n",
      "('Precision at K:', 2.6776353e-05)\n",
      "('Time used:', 147.91705)\n",
      "Model with maxIter = 10, reg = 0.1, rank = 160 complete\n",
      "('Precision at K:', 0.00011871926)\n",
      "('Time used:', 151.39157)\n",
      "Model with maxIter = 10, reg = 0.5, rank = 160 complete\n",
      "('Precision at K:', 0.00042696993)\n",
      "('Time used:', 420.49977)\n"
     ]
    }
   ],
   "source": [
    "for regParam in [0.001, 0.01, 0.05, 0.1, 0.5]:\n",
    "    pk_2, time_2 = train_and_test(train_1, test_1, 160, regParam, 10, top=500, model_type='warp')"
   ]
  },
  {
   "cell_type": "code",
   "execution_count": 15,
   "metadata": {},
   "outputs": [
    {
     "name": "stdout",
     "output_type": "stream",
     "text": [
      "Model with maxIter = 10, reg = 0.001, rank = 160 complete\n",
      "('Precision at K:', 2.1742633e-05)\n",
      "('Time used:', 151.32254)\n",
      "Model with maxIter = 10, reg = 0.01, rank = 160 complete\n",
      "('Precision at K:', 2.4319535e-05)\n",
      "('Time used:', 158.97416)\n",
      "Model with maxIter = 10, reg = 0.05, rank = 160 complete\n",
      "('Precision at K:', 2.5930101e-05)\n",
      "('Time used:', 153.76198)\n",
      "Model with maxIter = 10, reg = 0.1, rank = 160 complete\n",
      "('Precision at K:', 0.00015928493)\n",
      "('Time used:', 160.20987)\n",
      "Model with maxIter = 10, reg = 0.5, rank = 160 complete\n",
      "('Precision at K:', 0.00041198262)\n",
      "('Time used:', 434.86954)\n"
     ]
    }
   ],
   "source": [
    "for regParam in [0.001, 0.01, 0.05, 0.1, 0.5]:\n",
    "    pk_2, time_2 = train_and_test(train_1, test_1, 160, regParam, 10, top=500, model_type='bpr')"
   ]
  }
 ],
 "metadata": {
  "kernelspec": {
   "display_name": "Python 2",
   "language": "python",
   "name": "python2"
  },
  "language_info": {
   "codemirror_mode": {
    "name": "ipython",
    "version": 2
   },
   "file_extension": ".py",
   "mimetype": "text/x-python",
   "name": "python",
   "nbconvert_exporter": "python",
   "pygments_lexer": "ipython2",
   "version": "2.7.16"
  }
 },
 "nbformat": 4,
 "nbformat_minor": 2
}
